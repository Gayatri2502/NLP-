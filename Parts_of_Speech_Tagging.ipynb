{
  "nbformat": 4,
  "nbformat_minor": 0,
  "metadata": {
    "colab": {
      "provenance": [],
      "authorship_tag": "ABX9TyMqEDKjLWV7sCWUJBlTp0aB",
      "include_colab_link": true
    },
    "kernelspec": {
      "name": "python3",
      "display_name": "Python 3"
    },
    "language_info": {
      "name": "python"
    }
  },
  "cells": [
    {
      "cell_type": "markdown",
      "metadata": {
        "id": "view-in-github",
        "colab_type": "text"
      },
      "source": [
        "<a href=\"https://colab.research.google.com/github/Gayatri2502/NLP-/blob/main/Parts_of_Speech_Tagging.ipynb\" target=\"_parent\"><img src=\"https://colab.research.google.com/assets/colab-badge.svg\" alt=\"Open In Colab\"/></a>"
      ]
    },
    {
      "cell_type": "code",
      "execution_count": 2,
      "metadata": {
        "colab": {
          "base_uri": "https://localhost:8080/"
        },
        "id": "knJoBN5FeOO8",
        "outputId": "ff87827c-0f9c-46b0-d589-fcd37dbc1021"
      },
      "outputs": [
        {
          "output_type": "execute_result",
          "data": {
            "text/plain": [
              "[('Hello', 'NN'), ('Geeks', 'NN')]"
            ]
          },
          "metadata": {},
          "execution_count": 2
        }
      ],
      "source": [
        "# Loading Libraries\n",
        "from nltk.tag import DefaultTagger\n",
        "\n",
        "# Defining Tag\n",
        "tagging = DefaultTagger('NN')\n",
        "\n",
        "# Tagging\n",
        "tagging.tag(['Hello', 'Geeks'])\n"
      ]
    },
    {
      "cell_type": "code",
      "source": [
        "# Loading Libraries\n",
        "from nltk.tag import DefaultTagger\n",
        "\n",
        "# Defining Tag\n",
        "tagging = DefaultTagger('NN')\n",
        "\n",
        "tagging.tag_sents([['welcome', 'to', '.'], ['Geeks', 'for', 'Geeks']])\n"
      ],
      "metadata": {
        "colab": {
          "base_uri": "https://localhost:8080/"
        },
        "id": "zfE5qi9Bhq0d",
        "outputId": "906e7522-fe3f-450d-f76e-7815263cec5a"
      },
      "execution_count": 3,
      "outputs": [
        {
          "output_type": "execute_result",
          "data": {
            "text/plain": [
              "[[('welcome', 'NN'), ('to', 'NN'), ('.', 'NN')],\n",
              " [('Geeks', 'NN'), ('for', 'NN'), ('Geeks', 'NN')]]"
            ]
          },
          "metadata": {},
          "execution_count": 3
        }
      ]
    },
    {
      "cell_type": "code",
      "source": [
        "from nltk.tag import untag\n",
        "untag([('Geeks', 'NN'), ('for', 'NN'), ('Geeks', 'NN')])\n"
      ],
      "metadata": {
        "colab": {
          "base_uri": "https://localhost:8080/"
        },
        "id": "GTAt_kRjiBWW",
        "outputId": "7c0287ed-f5b2-4729-fb87-c4b385fb062f"
      },
      "execution_count": 4,
      "outputs": [
        {
          "output_type": "execute_result",
          "data": {
            "text/plain": [
              "['Geeks', 'for', 'Geeks']"
            ]
          },
          "metadata": {},
          "execution_count": 4
        }
      ]
    },
    {
      "cell_type": "markdown",
      "source": [
        "What is Part-of-speech (POS) tagging ? It is a process of converting a sentence to forms – list of words, list of tuples (where each tuple is having a form (word, tag)). The tag in case of is a part-of-speech tag, and signifies whether the word is a noun, adjective, verb, and so on.  Default tagging is a basic step for the part-of-speech tagging. It is performed using the DefaultTagger class. The DefaultTagger class takes ‘tag’ as a single argument. NN is the tag for a singular noun. DefaultTagger is most useful when it gets to work with most common part-of-speech tag. that’s why a noun tag is recommended.  Code #1 : How it works ? \n",
        "\n",
        "\n",
        "Each tagger has a tag() method that takes a list of tokens (usually list of words produced by a word tokenizer), where each token is a single word. tag() returns a list of tagged tokens – a tuple of (word, tag). How DefaultTagger works ? It is a subclass of SequentialBackoffTagger and implements the choose_tag() method, having three arguments."
      ],
      "metadata": {
        "id": "SVpelkDUibHC"
      }
    },
    {
      "cell_type": "code",
      "source": [],
      "metadata": {
        "id": "CXFu6-2Sil1c"
      },
      "execution_count": null,
      "outputs": []
    }
  ]
}