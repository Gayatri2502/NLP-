{
  "nbformat": 4,
  "nbformat_minor": 0,
  "metadata": {
    "colab": {
      "provenance": [],
      "authorship_tag": "ABX9TyN/UXBWOp7B0bf7EWTh0Vff",
      "include_colab_link": true
    },
    "kernelspec": {
      "name": "python3",
      "display_name": "Python 3"
    },
    "language_info": {
      "name": "python"
    }
  },
  "cells": [
    {
      "cell_type": "markdown",
      "metadata": {
        "id": "view-in-github",
        "colab_type": "text"
      },
      "source": [
        "<a href=\"https://colab.research.google.com/github/Gayatri2502/NLP-/blob/main/N_Grams_For_the_Text.ipynb\" target=\"_parent\"><img src=\"https://colab.research.google.com/assets/colab-badge.svg\" alt=\"Open In Colab\"/></a>"
      ]
    },
    {
      "cell_type": "code",
      "execution_count": 5,
      "metadata": {
        "colab": {
          "base_uri": "https://localhost:8080/"
        },
        "id": "9Z2b7k1JL6UO",
        "outputId": "bf82e762-d8ab-40b6-b39e-5145aca4cee0"
      },
      "outputs": [
        {
          "output_type": "stream",
          "name": "stdout",
          "text": [
            "('This', 'is', 'my', 'sentence', 'and', 'I')\n",
            "('is', 'my', 'sentence', 'and', 'I', 'want')\n",
            "('my', 'sentence', 'and', 'I', 'want', 'to')\n",
            "('sentence', 'and', 'I', 'want', 'to', 'ngramize')\n",
            "('and', 'I', 'want', 'to', 'ngramize', 'it.')\n",
            "('T', 'h', 'i', 's')\n",
            "('h', 'i', 's', ' ')\n",
            "('i', 's', ' ', 'i')\n",
            "('s', ' ', 'i', 's')\n",
            "(' ', 'i', 's', ' ')\n",
            "('i', 's', ' ', 'm')\n",
            "('s', ' ', 'm', 'y')\n",
            "(' ', 'm', 'y', ' ')\n",
            "('m', 'y', ' ', 's')\n",
            "('y', ' ', 's', 'e')\n",
            "(' ', 's', 'e', 'n')\n",
            "('s', 'e', 'n', 't')\n",
            "('e', 'n', 't', 'e')\n",
            "('n', 't', 'e', 'n')\n",
            "('t', 'e', 'n', 'c')\n",
            "('e', 'n', 'c', 'e')\n",
            "('n', 'c', 'e', ' ')\n",
            "('c', 'e', ' ', 'a')\n",
            "('e', ' ', 'a', 'n')\n",
            "(' ', 'a', 'n', 'd')\n",
            "('a', 'n', 'd', ' ')\n",
            "('n', 'd', ' ', 'I')\n",
            "('d', ' ', 'I', ' ')\n",
            "(' ', 'I', ' ', 'w')\n",
            "('I', ' ', 'w', 'a')\n",
            "(' ', 'w', 'a', 'n')\n",
            "('w', 'a', 'n', 't')\n",
            "('a', 'n', 't', ' ')\n",
            "('n', 't', ' ', 't')\n",
            "('t', ' ', 't', 'o')\n",
            "(' ', 't', 'o', ' ')\n",
            "('t', 'o', ' ', 'n')\n",
            "('o', ' ', 'n', 'g')\n",
            "(' ', 'n', 'g', 'r')\n",
            "('n', 'g', 'r', 'a')\n",
            "('g', 'r', 'a', 'm')\n",
            "('r', 'a', 'm', 'i')\n",
            "('a', 'm', 'i', 'z')\n",
            "('m', 'i', 'z', 'e')\n",
            "('i', 'z', 'e', ' ')\n",
            "('z', 'e', ' ', 'i')\n",
            "('e', ' ', 'i', 't')\n",
            "(' ', 'i', 't', '.')\n"
          ]
        }
      ],
      "source": [
        "from nltk import ngrams\n",
        "\n",
        "# Generate word-level N-grams\n",
        "sentence = \"This is my sentence and I want to ngramize it.\"\n",
        "n = 6\n",
        "w_6grams = ngrams(sentence.split(), n)\n",
        "for grams in w_6grams:\n",
        "    print(grams)\n",
        "\n",
        "# Generate character-level N-grams\n",
        "n = 4\n",
        "c_4grams = ngrams(sentence, n)\n",
        "for grams in c_4grams:\n",
        "    print(grams)\n"
      ]
    },
    {
      "cell_type": "code",
      "source": [
        "\n"
      ],
      "metadata": {
        "id": "AviGGEGAMrM4"
      },
      "execution_count": 4,
      "outputs": []
    },
    {
      "cell_type": "code",
      "source": [
        "def generate_ngrams(text, n):\n",
        "    # Split text into individual words\n",
        "    words = text.split()\n",
        "\n",
        "    # Generate N-grams\n",
        "    ngrams = []\n",
        "    for i in range(len(words)-n+1):\n",
        "        ngram = ' '.join(words[i:i+n])\n",
        "        ngrams.append(ngram)\n",
        "\n",
        "    return ngrams\n",
        "\n",
        "# Example usage\n",
        "text = \"The quick brown fox jumps over the lazy dog.\"\n",
        "ngrams = generate_ngrams(text, 3)\n",
        "print(ngrams)\n"
      ],
      "metadata": {
        "colab": {
          "base_uri": "https://localhost:8080/"
        },
        "id": "Lcte0IEsPuA4",
        "outputId": "5b61c2ee-fa9e-4c7b-b415-b642d710405d"
      },
      "execution_count": 3,
      "outputs": [
        {
          "output_type": "stream",
          "name": "stdout",
          "text": [
            "['The quick brown', 'quick brown fox', 'brown fox jumps', 'fox jumps over', 'jumps over the', 'over the lazy', 'the lazy dog.']\n"
          ]
        }
      ]
    }
  ]
}